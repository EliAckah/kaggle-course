{
 "cells": [
  {
   "cell_type": "markdown",
   "id": "a803b158",
   "metadata": {
    "papermill": {
     "duration": 0.006089,
     "end_time": "2023-11-05T14:21:25.584999",
     "exception": false,
     "start_time": "2023-11-05T14:21:25.578910",
     "status": "completed"
    },
    "tags": []
   },
   "source": [
    "**This notebook is an exercise in the [Introduction to Machine Learning](https://www.kaggle.com/learn/intro-to-machine-learning) course.  You can reference the tutorial at [this link](https://www.kaggle.com/dansbecker/model-validation).**\n",
    "\n",
    "---\n"
   ]
  },
  {
   "cell_type": "markdown",
   "id": "490e143a",
   "metadata": {
    "papermill": {
     "duration": 0.004953,
     "end_time": "2023-11-05T14:21:25.597090",
     "exception": false,
     "start_time": "2023-11-05T14:21:25.592137",
     "status": "completed"
    },
    "tags": []
   },
   "source": [
    "## Recap\n",
    "You've built a model. In this exercise you will test how good your model is.\n",
    "\n",
    "Run the cell below to set up your coding environment where the previous exercise left off."
   ]
  },
  {
   "cell_type": "code",
   "execution_count": 1,
   "id": "158bcbd8",
   "metadata": {
    "execution": {
     "iopub.execute_input": "2023-11-05T14:21:25.609138Z",
     "iopub.status.busy": "2023-11-05T14:21:25.608566Z",
     "iopub.status.idle": "2023-11-05T14:21:27.578261Z",
     "shell.execute_reply": "2023-11-05T14:21:27.577454Z"
    },
    "papermill": {
     "duration": 1.978585,
     "end_time": "2023-11-05T14:21:27.580562",
     "exception": false,
     "start_time": "2023-11-05T14:21:25.601977",
     "status": "completed"
    },
    "tags": []
   },
   "outputs": [
    {
     "name": "stdout",
     "output_type": "stream",
     "text": [
      "First in-sample predictions: [208500. 181500. 223500. 140000. 250000.]\n",
      "Actual target values for those homes: [208500, 181500, 223500, 140000, 250000]\n",
      "Setup Complete\n"
     ]
    }
   ],
   "source": [
    "# Code you have previously used to load data\n",
    "import pandas as pd\n",
    "from sklearn.tree import DecisionTreeRegressor\n",
    "\n",
    "# Path of the file to read\n",
    "iowa_file_path = '../input/home-data-for-ml-course/train.csv'\n",
    "\n",
    "home_data = pd.read_csv(iowa_file_path)\n",
    "y = home_data.SalePrice\n",
    "feature_columns = ['LotArea', 'YearBuilt', '1stFlrSF', '2ndFlrSF', 'FullBath', 'BedroomAbvGr', 'TotRmsAbvGrd']\n",
    "X = home_data[feature_columns]\n",
    "\n",
    "# Specify Model\n",
    "iowa_model = DecisionTreeRegressor()\n",
    "# Fit Model\n",
    "iowa_model.fit(X, y)\n",
    "\n",
    "print(\"First in-sample predictions:\", iowa_model.predict(X.head()))\n",
    "print(\"Actual target values for those homes:\", y.head().tolist())\n",
    "\n",
    "# Set up code checking\n",
    "from learntools.core import binder\n",
    "binder.bind(globals())\n",
    "from learntools.machine_learning.ex4 import *\n",
    "print(\"Setup Complete\")"
   ]
  },
  {
   "cell_type": "markdown",
   "id": "4927d28d",
   "metadata": {
    "papermill": {
     "duration": 0.005262,
     "end_time": "2023-11-05T14:21:27.591356",
     "exception": false,
     "start_time": "2023-11-05T14:21:27.586094",
     "status": "completed"
    },
    "tags": []
   },
   "source": [
    "# Exercises\n",
    "\n",
    "## Step 1: Split Your Data\n",
    "Use the `train_test_split` function to split up your data.\n",
    "\n",
    "Give it the argument `random_state=1` so the `check` functions know what to expect when verifying your code.\n",
    "\n",
    "Recall, your features are loaded in the DataFrame **X** and your target is loaded in **y**.\n"
   ]
  },
  {
   "cell_type": "code",
   "execution_count": 2,
   "id": "b20fb9f4",
   "metadata": {
    "execution": {
     "iopub.execute_input": "2023-11-05T14:21:27.603742Z",
     "iopub.status.busy": "2023-11-05T14:21:27.603134Z",
     "iopub.status.idle": "2023-11-05T14:21:27.616827Z",
     "shell.execute_reply": "2023-11-05T14:21:27.615807Z"
    },
    "papermill": {
     "duration": 0.022422,
     "end_time": "2023-11-05T14:21:27.619139",
     "exception": false,
     "start_time": "2023-11-05T14:21:27.596717",
     "status": "completed"
    },
    "tags": []
   },
   "outputs": [
    {
     "data": {
      "application/javascript": [
       "parent.postMessage({\"jupyterEvent\": \"custom.exercise_interaction\", \"data\": {\"outcomeType\": 1, \"valueTowardsCompletion\": 0.25, \"interactionType\": 1, \"questionType\": 2, \"questionId\": \"1_SplitData\", \"learnToolsVersion\": \"0.3.4\", \"failureMessage\": \"\", \"exceptionClass\": \"\", \"trace\": \"\"}}, \"*\")"
      ],
      "text/plain": [
       "<IPython.core.display.Javascript object>"
      ]
     },
     "metadata": {},
     "output_type": "display_data"
    },
    {
     "data": {
      "text/markdown": [
       "<span style=\"color:#33cc33\">Correct</span>"
      ],
      "text/plain": [
       "Correct"
      ]
     },
     "metadata": {},
     "output_type": "display_data"
    }
   ],
   "source": [
    "# Import the train_test_split function and uncomment\n",
    "from sklearn.model_selection import train_test_split\n",
    "\n",
    "# fill in and uncomment\n",
    "train_X, val_X, train_y, val_y = train_test_split(X,y, random_state=1)\n",
    "\n",
    "# Check your answer\n",
    "step_1.check()"
   ]
  },
  {
   "cell_type": "code",
   "execution_count": 3,
   "id": "119c9eb3",
   "metadata": {
    "execution": {
     "iopub.execute_input": "2023-11-05T14:21:27.633671Z",
     "iopub.status.busy": "2023-11-05T14:21:27.633296Z",
     "iopub.status.idle": "2023-11-05T14:21:27.637420Z",
     "shell.execute_reply": "2023-11-05T14:21:27.636486Z"
    },
    "papermill": {
     "duration": 0.01268,
     "end_time": "2023-11-05T14:21:27.639419",
     "exception": false,
     "start_time": "2023-11-05T14:21:27.626739",
     "status": "completed"
    },
    "tags": []
   },
   "outputs": [],
   "source": [
    "# The lines below will show you a hint or the solution.\n",
    "# step_1.hint() \n",
    "# step_1.solution()\n"
   ]
  },
  {
   "cell_type": "markdown",
   "id": "c3b295b8",
   "metadata": {
    "papermill": {
     "duration": 0.005608,
     "end_time": "2023-11-05T14:21:27.650800",
     "exception": false,
     "start_time": "2023-11-05T14:21:27.645192",
     "status": "completed"
    },
    "tags": []
   },
   "source": [
    "## Step 2: Specify and Fit the Model\n",
    "\n",
    "Create a `DecisionTreeRegressor` model and fit it to the relevant data.\n",
    "Set `random_state` to 1 again when creating the model."
   ]
  },
  {
   "cell_type": "code",
   "execution_count": 4,
   "id": "1120d87d",
   "metadata": {
    "execution": {
     "iopub.execute_input": "2023-11-05T14:21:27.663902Z",
     "iopub.status.busy": "2023-11-05T14:21:27.663207Z",
     "iopub.status.idle": "2023-11-05T14:21:27.691987Z",
     "shell.execute_reply": "2023-11-05T14:21:27.690844Z"
    },
    "papermill": {
     "duration": 0.037907,
     "end_time": "2023-11-05T14:21:27.694372",
     "exception": false,
     "start_time": "2023-11-05T14:21:27.656465",
     "status": "completed"
    },
    "tags": []
   },
   "outputs": [
    {
     "name": "stdout",
     "output_type": "stream",
     "text": [
      "[186500. 184000. 130000.  92000. 164500. 220000. 335000. 144152. 215000.\n",
      " 262000.]\n",
      "[186500. 184000. 130000.  92000. 164500. 220000. 335000. 144152. 215000.\n",
      " 262000.]\n"
     ]
    },
    {
     "data": {
      "application/javascript": [
       "parent.postMessage({\"jupyterEvent\": \"custom.exercise_interaction\", \"data\": {\"outcomeType\": 1, \"valueTowardsCompletion\": 0.25, \"interactionType\": 1, \"questionType\": 2, \"questionId\": \"2_FitModelWithTrain\", \"learnToolsVersion\": \"0.3.4\", \"failureMessage\": \"\", \"exceptionClass\": \"\", \"trace\": \"\"}}, \"*\")"
      ],
      "text/plain": [
       "<IPython.core.display.Javascript object>"
      ]
     },
     "metadata": {},
     "output_type": "display_data"
    },
    {
     "data": {
      "text/markdown": [
       "<span style=\"color:#33cc33\">Correct</span>"
      ],
      "text/plain": [
       "Correct"
      ]
     },
     "metadata": {},
     "output_type": "display_data"
    }
   ],
   "source": [
    "# You imported DecisionTreeRegressor in your last exercise\n",
    "# and that code has been copied to the setup code above. So, no need to\n",
    "# import it again\n",
    "\n",
    "# Specify the model\n",
    "iowa_model = DecisionTreeRegressor(random_state=1)\n",
    "\n",
    "# Fit iowa_model with the training data.\n",
    "iowa_model.fit(train_X,train_y)\n",
    "\n",
    "# Check your answer\n",
    "step_2.check()"
   ]
  },
  {
   "cell_type": "code",
   "execution_count": 5,
   "id": "48b668ea",
   "metadata": {
    "execution": {
     "iopub.execute_input": "2023-11-05T14:21:27.709235Z",
     "iopub.status.busy": "2023-11-05T14:21:27.708213Z",
     "iopub.status.idle": "2023-11-05T14:21:27.712892Z",
     "shell.execute_reply": "2023-11-05T14:21:27.712029Z"
    },
    "papermill": {
     "duration": 0.014526,
     "end_time": "2023-11-05T14:21:27.715030",
     "exception": false,
     "start_time": "2023-11-05T14:21:27.700504",
     "status": "completed"
    },
    "tags": []
   },
   "outputs": [],
   "source": [
    "# step_2.hint()\n",
    "# step_2.solution()"
   ]
  },
  {
   "cell_type": "markdown",
   "id": "f29c189a",
   "metadata": {
    "papermill": {
     "duration": 0.006189,
     "end_time": "2023-11-05T14:21:27.727578",
     "exception": false,
     "start_time": "2023-11-05T14:21:27.721389",
     "status": "completed"
    },
    "tags": []
   },
   "source": [
    "## Step 3: Make Predictions with Validation data\n"
   ]
  },
  {
   "cell_type": "code",
   "execution_count": 6,
   "id": "9e9174c5",
   "metadata": {
    "execution": {
     "iopub.execute_input": "2023-11-05T14:21:27.743414Z",
     "iopub.status.busy": "2023-11-05T14:21:27.742581Z",
     "iopub.status.idle": "2023-11-05T14:21:27.754926Z",
     "shell.execute_reply": "2023-11-05T14:21:27.753948Z"
    },
    "papermill": {
     "duration": 0.023186,
     "end_time": "2023-11-05T14:21:27.757268",
     "exception": false,
     "start_time": "2023-11-05T14:21:27.734082",
     "status": "completed"
    },
    "tags": []
   },
   "outputs": [
    {
     "data": {
      "application/javascript": [
       "parent.postMessage({\"jupyterEvent\": \"custom.exercise_interaction\", \"data\": {\"outcomeType\": 1, \"valueTowardsCompletion\": 0.25, \"interactionType\": 1, \"questionType\": 2, \"questionId\": \"3_ValPreds\", \"learnToolsVersion\": \"0.3.4\", \"failureMessage\": \"\", \"exceptionClass\": \"\", \"trace\": \"\"}}, \"*\")"
      ],
      "text/plain": [
       "<IPython.core.display.Javascript object>"
      ]
     },
     "metadata": {},
     "output_type": "display_data"
    },
    {
     "data": {
      "text/markdown": [
       "<span style=\"color:#33cc33\">Correct</span>"
      ],
      "text/plain": [
       "Correct"
      ]
     },
     "metadata": {},
     "output_type": "display_data"
    }
   ],
   "source": [
    "# Predict with all validation observations\n",
    "val_predictions = iowa_model.predict(val_X)\n",
    "val_predictions\n",
    "# Check your answer\n",
    "step_3.check()"
   ]
  },
  {
   "cell_type": "code",
   "execution_count": 7,
   "id": "a9ecc913",
   "metadata": {
    "execution": {
     "iopub.execute_input": "2023-11-05T14:21:27.772419Z",
     "iopub.status.busy": "2023-11-05T14:21:27.772056Z",
     "iopub.status.idle": "2023-11-05T14:21:27.776071Z",
     "shell.execute_reply": "2023-11-05T14:21:27.775084Z"
    },
    "papermill": {
     "duration": 0.014363,
     "end_time": "2023-11-05T14:21:27.778286",
     "exception": false,
     "start_time": "2023-11-05T14:21:27.763923",
     "status": "completed"
    },
    "tags": []
   },
   "outputs": [],
   "source": [
    "# step_3.hint()\n",
    "# step_3.solution()"
   ]
  },
  {
   "cell_type": "markdown",
   "id": "f75f6d69",
   "metadata": {
    "papermill": {
     "duration": 0.007061,
     "end_time": "2023-11-05T14:21:27.792763",
     "exception": false,
     "start_time": "2023-11-05T14:21:27.785702",
     "status": "completed"
    },
    "tags": []
   },
   "source": [
    "Inspect your predictions and actual values from validation data."
   ]
  },
  {
   "cell_type": "code",
   "execution_count": 8,
   "id": "c674d56b",
   "metadata": {
    "execution": {
     "iopub.execute_input": "2023-11-05T14:21:27.809231Z",
     "iopub.status.busy": "2023-11-05T14:21:27.808868Z",
     "iopub.status.idle": "2023-11-05T14:21:27.815253Z",
     "shell.execute_reply": "2023-11-05T14:21:27.814186Z"
    },
    "papermill": {
     "duration": 0.017786,
     "end_time": "2023-11-05T14:21:27.817886",
     "exception": false,
     "start_time": "2023-11-05T14:21:27.800100",
     "status": "completed"
    },
    "tags": []
   },
   "outputs": [
    {
     "name": "stdout",
     "output_type": "stream",
     "text": [
      "[186500. 184000. 130000.  92000. 164500.]\n",
      "258     231500\n",
      "267     179500\n",
      "288     122000\n",
      "649      84500\n",
      "1233    142000\n",
      "Name: SalePrice, dtype: int64\n"
     ]
    }
   ],
   "source": [
    "# print the top few validation predictions\n",
    "print(val_predictions[:5])\n",
    "# print the top few actual prices from validation data\n",
    "print(val_y.head())"
   ]
  },
  {
   "cell_type": "markdown",
   "id": "577e1d86",
   "metadata": {
    "papermill": {
     "duration": 0.006472,
     "end_time": "2023-11-05T14:21:27.831646",
     "exception": false,
     "start_time": "2023-11-05T14:21:27.825174",
     "status": "completed"
    },
    "tags": []
   },
   "source": [
    "What do you notice that is different from what you saw with in-sample predictions (which are printed after the top code cell in this page).\n",
    "\n",
    "Do you remember why validation predictions differ from in-sample (or training) predictions? This is an important idea from the last lesson.\n",
    "\n",
    "## Step 4: Calculate the Mean Absolute Error in Validation Data\n"
   ]
  },
  {
   "cell_type": "code",
   "execution_count": 9,
   "id": "c40861fe",
   "metadata": {
    "execution": {
     "iopub.execute_input": "2023-11-05T14:21:27.847190Z",
     "iopub.status.busy": "2023-11-05T14:21:27.846619Z",
     "iopub.status.idle": "2023-11-05T14:21:27.856826Z",
     "shell.execute_reply": "2023-11-05T14:21:27.855861Z"
    },
    "papermill": {
     "duration": 0.021753,
     "end_time": "2023-11-05T14:21:27.860011",
     "exception": false,
     "start_time": "2023-11-05T14:21:27.838258",
     "status": "completed"
    },
    "tags": []
   },
   "outputs": [
    {
     "name": "stdout",
     "output_type": "stream",
     "text": [
      "29652.931506849316\n"
     ]
    },
    {
     "data": {
      "application/javascript": [
       "parent.postMessage({\"jupyterEvent\": \"custom.exercise_interaction\", \"data\": {\"outcomeType\": 1, \"valueTowardsCompletion\": 0.25, \"interactionType\": 1, \"questionType\": 1, \"questionId\": \"4_MAE\", \"learnToolsVersion\": \"0.3.4\", \"failureMessage\": \"\", \"exceptionClass\": \"\", \"trace\": \"\"}}, \"*\")"
      ],
      "text/plain": [
       "<IPython.core.display.Javascript object>"
      ]
     },
     "metadata": {},
     "output_type": "display_data"
    },
    {
     "data": {
      "text/markdown": [
       "<span style=\"color:#33cc33\">Correct</span>"
      ],
      "text/plain": [
       "Correct"
      ]
     },
     "metadata": {},
     "output_type": "display_data"
    }
   ],
   "source": [
    "from sklearn.metrics import mean_absolute_error\n",
    "val_mae = mean_absolute_error(val_y,val_predictions)\n",
    "\n",
    "# uncomment following line to see the validation_mae\n",
    "print(val_mae)\n",
    "\n",
    "# Check your answer\n",
    "step_4.check()"
   ]
  },
  {
   "cell_type": "code",
   "execution_count": 10,
   "id": "7c70c887",
   "metadata": {
    "execution": {
     "iopub.execute_input": "2023-11-05T14:21:27.876320Z",
     "iopub.status.busy": "2023-11-05T14:21:27.875644Z",
     "iopub.status.idle": "2023-11-05T14:21:27.880064Z",
     "shell.execute_reply": "2023-11-05T14:21:27.879197Z"
    },
    "papermill": {
     "duration": 0.015103,
     "end_time": "2023-11-05T14:21:27.882350",
     "exception": false,
     "start_time": "2023-11-05T14:21:27.867247",
     "status": "completed"
    },
    "tags": []
   },
   "outputs": [],
   "source": [
    "# step_4.hint()\n",
    "# step_4.solution()"
   ]
  },
  {
   "cell_type": "markdown",
   "id": "1a7d8988",
   "metadata": {
    "papermill": {
     "duration": 0.007204,
     "end_time": "2023-11-05T14:21:27.897924",
     "exception": false,
     "start_time": "2023-11-05T14:21:27.890720",
     "status": "completed"
    },
    "tags": []
   },
   "source": [
    "Is that MAE good?  There isn't a general rule for what values are good that applies across applications. But you'll see how to use (and improve) this number in the next step.\n",
    "\n",
    "# Keep Going\n",
    "\n",
    "You are ready for **[Underfitting and Overfitting](https://www.kaggle.com/dansbecker/underfitting-and-overfitting).**\n"
   ]
  },
  {
   "cell_type": "code",
   "execution_count": null,
   "id": "c80dc053",
   "metadata": {
    "papermill": {
     "duration": 0.007208,
     "end_time": "2023-11-05T14:21:27.913040",
     "exception": false,
     "start_time": "2023-11-05T14:21:27.905832",
     "status": "completed"
    },
    "tags": []
   },
   "outputs": [],
   "source": []
  },
  {
   "cell_type": "markdown",
   "id": "01efa9c3",
   "metadata": {
    "papermill": {
     "duration": 0.007127,
     "end_time": "2023-11-05T14:21:27.927534",
     "exception": false,
     "start_time": "2023-11-05T14:21:27.920407",
     "status": "completed"
    },
    "tags": []
   },
   "source": [
    "---\n",
    "\n",
    "\n",
    "\n",
    "\n",
    "*Have questions or comments? Visit the [course discussion forum](https://www.kaggle.com/learn/intro-to-machine-learning/discussion) to chat with other learners.*"
   ]
  }
 ],
 "metadata": {
  "kernelspec": {
   "display_name": "Python 3",
   "language": "python",
   "name": "python3"
  },
  "language_info": {
   "codemirror_mode": {
    "name": "ipython",
    "version": 3
   },
   "file_extension": ".py",
   "mimetype": "text/x-python",
   "name": "python",
   "nbconvert_exporter": "python",
   "pygments_lexer": "ipython3",
   "version": "3.10.12"
  },
  "papermill": {
   "default_parameters": {},
   "duration": 6.194118,
   "end_time": "2023-11-05T14:21:28.454446",
   "environment_variables": {},
   "exception": null,
   "input_path": "__notebook__.ipynb",
   "output_path": "__notebook__.ipynb",
   "parameters": {},
   "start_time": "2023-11-05T14:21:22.260328",
   "version": "2.4.0"
  }
 },
 "nbformat": 4,
 "nbformat_minor": 5
}
