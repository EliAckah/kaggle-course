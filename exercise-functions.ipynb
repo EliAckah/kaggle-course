{
 "cells": [
  {
   "cell_type": "markdown",
   "id": "3bcbf420",
   "metadata": {
    "papermill": {
     "duration": 0.005118,
     "end_time": "2023-11-05T14:34:47.190921",
     "exception": false,
     "start_time": "2023-11-05T14:34:47.185803",
     "status": "completed"
    },
    "tags": []
   },
   "source": [
    "**This notebook is an exercise in the [Intro to Programming](https://www.kaggle.com/learn/intro-to-programming) course.  You can reference the tutorial at [this link](https://www.kaggle.com/alexisbcook/functions).**\n",
    "\n",
    "---\n"
   ]
  },
  {
   "cell_type": "markdown",
   "id": "9e0bb6d4",
   "metadata": {
    "papermill": {
     "duration": 0.004227,
     "end_time": "2023-11-05T14:34:47.199731",
     "exception": false,
     "start_time": "2023-11-05T14:34:47.195504",
     "status": "completed"
    },
    "tags": []
   },
   "source": [
    "In the tutorial, you learned about functions. In this exercise, you'll write some of your own!\n",
    "\n",
    "# Set up the notebook\n",
    "\n",
    "Run the next code cell without changes to set up the notebook."
   ]
  },
  {
   "cell_type": "code",
   "execution_count": 1,
   "id": "1515a04d",
   "metadata": {
    "execution": {
     "iopub.execute_input": "2023-11-05T14:34:47.210359Z",
     "iopub.status.busy": "2023-11-05T14:34:47.210007Z",
     "iopub.status.idle": "2023-11-05T14:34:47.514412Z",
     "shell.execute_reply": "2023-11-05T14:34:47.513452Z"
    },
    "papermill": {
     "duration": 0.312592,
     "end_time": "2023-11-05T14:34:47.516757",
     "exception": false,
     "start_time": "2023-11-05T14:34:47.204165",
     "status": "completed"
    },
    "tags": []
   },
   "outputs": [
    {
     "name": "stdout",
     "output_type": "stream",
     "text": [
      "Setup complete.\n"
     ]
    }
   ],
   "source": [
    "# Set up the exercise\n",
    "import math\n",
    "from learntools.core import binder\n",
    "binder.bind(globals())\n",
    "from learntools.intro_to_programming.ex2 import *\n",
    "print('Setup complete.')"
   ]
  },
  {
   "cell_type": "markdown",
   "id": "d206ebb3",
   "metadata": {
    "papermill": {
     "duration": 0.004613,
     "end_time": "2023-11-05T14:34:47.526396",
     "exception": false,
     "start_time": "2023-11-05T14:34:47.521783",
     "status": "completed"
    },
    "tags": []
   },
   "source": [
    "# Question 1\n",
    "\n",
    "In the [House Prices - Advanced Regression Techniques competition](https://www.kaggle.com/c/house-prices-advanced-regression-techniques/overview), you need to use information like the number of bedrooms and bathrooms to predict the price of a house.  Inspired by this competition, you'll write your own function to do this.\n",
    "\n",
    "In the next code cell, create a function `get_expected_cost()` that has two arguments:\n",
    "- `beds` - number of bedrooms \n",
    "- `baths` - number of bathrooms\n",
    "\n",
    "It should return the expected cost of a house with that number of bedrooms and bathrooms.  Assume that:\n",
    "- the expected cost for a house with 0 bedrooms and 0 bathrooms is `80000`.  \n",
    "- each bedroom adds `30000` to the expected cost\n",
    "- each bathroom adds `10000` to the expected cost.\n",
    "\n",
    "For instance, \n",
    "- a house with 1 bedroom and 1 bathroom has an expected cost of `120000`, and \n",
    "- a house with 2 bedrooms and 1 bathroom has an expected cost of `150000`."
   ]
  },
  {
   "cell_type": "code",
   "execution_count": 2,
   "id": "0cf55f6c",
   "metadata": {
    "execution": {
     "iopub.execute_input": "2023-11-05T14:34:47.536693Z",
     "iopub.status.busy": "2023-11-05T14:34:47.536366Z",
     "iopub.status.idle": "2023-11-05T14:34:47.544682Z",
     "shell.execute_reply": "2023-11-05T14:34:47.543697Z"
    },
    "papermill": {
     "duration": 0.015331,
     "end_time": "2023-11-05T14:34:47.546287",
     "exception": false,
     "start_time": "2023-11-05T14:34:47.530956",
     "status": "completed"
    },
    "tags": []
   },
   "outputs": [
    {
     "data": {
      "application/javascript": [
       "parent.postMessage({\"jupyterEvent\": \"custom.exercise_interaction\", \"data\": {\"outcomeType\": 1, \"valueTowardsCompletion\": 0.2, \"interactionType\": 1, \"questionType\": 2, \"questionId\": \"1_GetExpectedCost\", \"learnToolsVersion\": \"0.3.4\", \"failureMessage\": \"\", \"exceptionClass\": \"\", \"trace\": \"\"}}, \"*\")"
      ],
      "text/plain": [
       "<IPython.core.display.Javascript object>"
      ]
     },
     "metadata": {},
     "output_type": "display_data"
    },
    {
     "data": {
      "text/markdown": [
       "<span style=\"color:#33cc33\">Correct</span>"
      ],
      "text/plain": [
       "Correct"
      ]
     },
     "metadata": {},
     "output_type": "display_data"
    }
   ],
   "source": [
    "# TODO: Complete the function\n",
    "def get_expected_cost(beds, baths):\n",
    "    value = 80000 + (30000*beds) + (10000*baths)\n",
    "    return value\n",
    "\n",
    "# Check your answer \n",
    "q1.check()"
   ]
  },
  {
   "cell_type": "code",
   "execution_count": 3,
   "id": "e3700976",
   "metadata": {
    "execution": {
     "iopub.execute_input": "2023-11-05T14:34:47.556887Z",
     "iopub.status.busy": "2023-11-05T14:34:47.556661Z",
     "iopub.status.idle": "2023-11-05T14:34:47.562927Z",
     "shell.execute_reply": "2023-11-05T14:34:47.562338Z"
    },
    "papermill": {
     "duration": 0.013415,
     "end_time": "2023-11-05T14:34:47.564510",
     "exception": false,
     "start_time": "2023-11-05T14:34:47.551095",
     "status": "completed"
    },
    "tags": []
   },
   "outputs": [
    {
     "data": {
      "application/javascript": [
       "parent.postMessage({\"jupyterEvent\": \"custom.exercise_interaction\", \"data\": {\"interactionType\": 2, \"questionType\": 2, \"questionId\": \"1_GetExpectedCost\", \"learnToolsVersion\": \"0.3.4\", \"valueTowardsCompletion\": 0.0, \"failureMessage\": \"\", \"exceptionClass\": \"\", \"trace\": \"\", \"outcomeType\": 4}}, \"*\")"
      ],
      "text/plain": [
       "<IPython.core.display.Javascript object>"
      ]
     },
     "metadata": {},
     "output_type": "display_data"
    },
    {
     "data": {
      "text/markdown": [
       "<span style=\"color:#3366cc\">Hint:</span> The value should be the base cost (`80000`), plus the total cost of the bedrooms (`30000 * beds`), plus the total cost of the bathrooms (`10000 * baths`)."
      ],
      "text/plain": [
       "Hint: The value should be the base cost (`80000`), plus the total cost of the bedrooms (`30000 * beds`), plus the total cost of the bathrooms (`10000 * baths`)."
      ]
     },
     "metadata": {},
     "output_type": "display_data"
    }
   ],
   "source": [
    "# Uncomment to see a hint\n",
    "q1.hint()\n",
    "\n",
    "# Uncomment to view the solution\n",
    "#q1.solution()"
   ]
  },
  {
   "cell_type": "markdown",
   "id": "27b82360",
   "metadata": {
    "papermill": {
     "duration": 0.004818,
     "end_time": "2023-11-05T14:34:47.574418",
     "exception": false,
     "start_time": "2023-11-05T14:34:47.569600",
     "status": "completed"
    },
    "tags": []
   },
   "source": [
    "# Question 2\n",
    "\n",
    "You are thinking about buying a home and want to get an idea of how much you will spend, based on the number of bedrooms and bathrooms.  You are trying to decide between four different options:\n",
    "- Option 1: house with two bedrooms and three bathrooms\n",
    "- Option 2: house with three bedrooms and two bathrooms\n",
    "- Option 3: house with three bedrooms and three bathrooms\n",
    "- Option 4: house with three bedrooms and four bathrooms\n",
    "\n",
    "Use the `get_expected_cost()` function you defined in question 1 to set `option_1`, `option_2`, `option_3`, and `option_4` to the expected cost of each option."
   ]
  },
  {
   "cell_type": "code",
   "execution_count": 4,
   "id": "8d8180e6",
   "metadata": {
    "execution": {
     "iopub.execute_input": "2023-11-05T14:34:47.585889Z",
     "iopub.status.busy": "2023-11-05T14:34:47.585463Z",
     "iopub.status.idle": "2023-11-05T14:34:47.594227Z",
     "shell.execute_reply": "2023-11-05T14:34:47.593601Z"
    },
    "papermill": {
     "duration": 0.016342,
     "end_time": "2023-11-05T14:34:47.595797",
     "exception": false,
     "start_time": "2023-11-05T14:34:47.579455",
     "status": "completed"
    },
    "tags": []
   },
   "outputs": [
    {
     "name": "stdout",
     "output_type": "stream",
     "text": [
      "170000\n",
      "190000\n",
      "200000\n",
      "210000\n"
     ]
    },
    {
     "data": {
      "application/javascript": [
       "parent.postMessage({\"jupyterEvent\": \"custom.exercise_interaction\", \"data\": {\"outcomeType\": 1, \"valueTowardsCompletion\": 0.2, \"interactionType\": 1, \"questionType\": 1, \"questionId\": \"2_RunGetExpectedCost\", \"learnToolsVersion\": \"0.3.4\", \"failureMessage\": \"\", \"exceptionClass\": \"\", \"trace\": \"\"}}, \"*\")"
      ],
      "text/plain": [
       "<IPython.core.display.Javascript object>"
      ]
     },
     "metadata": {},
     "output_type": "display_data"
    },
    {
     "data": {
      "text/markdown": [
       "<span style=\"color:#33cc33\">Correct</span>"
      ],
      "text/plain": [
       "Correct"
      ]
     },
     "metadata": {},
     "output_type": "display_data"
    }
   ],
   "source": [
    "# TODO: Use the get_expected_cost function to fill in each value\n",
    "option_one = get_expected_cost(2,3)\n",
    "option_two = get_expected_cost(3,2)\n",
    "option_three = get_expected_cost(3,3)\n",
    "option_four = get_expected_cost(3,4)\n",
    "\n",
    "print(option_one)\n",
    "print(option_two)\n",
    "print(option_three)\n",
    "print(option_four)\n",
    "\n",
    "# Check your answer\n",
    "q2.check()"
   ]
  },
  {
   "cell_type": "code",
   "execution_count": 5,
   "id": "6229f6a1",
   "metadata": {
    "execution": {
     "iopub.execute_input": "2023-11-05T14:34:47.608158Z",
     "iopub.status.busy": "2023-11-05T14:34:47.607773Z",
     "iopub.status.idle": "2023-11-05T14:34:47.614084Z",
     "shell.execute_reply": "2023-11-05T14:34:47.613529Z"
    },
    "papermill": {
     "duration": 0.0141,
     "end_time": "2023-11-05T14:34:47.615642",
     "exception": false,
     "start_time": "2023-11-05T14:34:47.601542",
     "status": "completed"
    },
    "tags": []
   },
   "outputs": [
    {
     "data": {
      "application/javascript": [
       "parent.postMessage({\"jupyterEvent\": \"custom.exercise_interaction\", \"data\": {\"interactionType\": 2, \"questionType\": 1, \"questionId\": \"2_RunGetExpectedCost\", \"learnToolsVersion\": \"0.3.4\", \"valueTowardsCompletion\": 0.0, \"failureMessage\": \"\", \"exceptionClass\": \"\", \"trace\": \"\", \"outcomeType\": 4}}, \"*\")"
      ],
      "text/plain": [
       "<IPython.core.display.Javascript object>"
      ]
     },
     "metadata": {},
     "output_type": "display_data"
    },
    {
     "data": {
      "text/markdown": [
       "<span style=\"color:#3366cc\">Hint:</span> If `option_five` needed to have the expected cost of a house with five bedrooms and three bathrooms, we would write `option_five = get_expected_cost(5, 3)`."
      ],
      "text/plain": [
       "Hint: If `option_five` needed to have the expected cost of a house with five bedrooms and three bathrooms, we would write `option_five = get_expected_cost(5, 3)`."
      ]
     },
     "metadata": {},
     "output_type": "display_data"
    }
   ],
   "source": [
    "# Uncomment to see a hint\n",
    "q2.hint()\n",
    "\n",
    "# Uncomment to view the solution\n",
    "#q2.solution()"
   ]
  },
  {
   "cell_type": "markdown",
   "id": "c7f6bcbf",
   "metadata": {
    "papermill": {
     "duration": 0.005364,
     "end_time": "2023-11-05T14:34:47.626513",
     "exception": false,
     "start_time": "2023-11-05T14:34:47.621149",
     "status": "completed"
    },
    "tags": []
   },
   "source": [
    "# Question 3\n",
    "\n",
    "You're a home decorator, and you'd like to use Python to streamline some of your work.  Specifically, you're creating a tool that you intend to use to calculate the cost of painting a room.\n",
    "\n",
    "As a first step, define a function `get_cost()` that takes as input:\n",
    "- `sqft_walls` = total square feet of walls to be painted\n",
    "- `sqft_ceiling` = square feet of ceiling to be painted\n",
    "- `sqft_per_gallon` = number of square feet that you can cover with one gallon of paint\n",
    "- `cost_per_gallon` = cost (in dollars) of one gallon of paint\n",
    "\n",
    "It should return the cost (in dollars) of putting one coat of paint on all walls and the ceiling.  Assume you can buy the exact amount of paint that you need, so you can buy partial gallons (e.g., if you need 7.523 gallons, you can buy that exact amount, instead of needing to buy 8 gallons and waste some paint).  Do not round your answer."
   ]
  },
  {
   "cell_type": "code",
   "execution_count": 6,
   "id": "95ff103d",
   "metadata": {
    "execution": {
     "iopub.execute_input": "2023-11-05T14:34:47.639214Z",
     "iopub.status.busy": "2023-11-05T14:34:47.638801Z",
     "iopub.status.idle": "2023-11-05T14:34:47.645978Z",
     "shell.execute_reply": "2023-11-05T14:34:47.645235Z"
    },
    "papermill": {
     "duration": 0.015684,
     "end_time": "2023-11-05T14:34:47.648020",
     "exception": false,
     "start_time": "2023-11-05T14:34:47.632336",
     "status": "completed"
    },
    "tags": []
   },
   "outputs": [
    {
     "data": {
      "application/javascript": [
       "parent.postMessage({\"jupyterEvent\": \"custom.exercise_interaction\", \"data\": {\"outcomeType\": 1, \"valueTowardsCompletion\": 0.2, \"interactionType\": 1, \"questionType\": 2, \"questionId\": \"3_GetCostPaint\", \"learnToolsVersion\": \"0.3.4\", \"failureMessage\": \"\", \"exceptionClass\": \"\", \"trace\": \"\"}}, \"*\")"
      ],
      "text/plain": [
       "<IPython.core.display.Javascript object>"
      ]
     },
     "metadata": {},
     "output_type": "display_data"
    },
    {
     "data": {
      "text/markdown": [
       "<span style=\"color:#33cc33\">Correct</span>"
      ],
      "text/plain": [
       "Correct"
      ]
     },
     "metadata": {},
     "output_type": "display_data"
    }
   ],
   "source": [
    "# TODO: Finish defining the function\n",
    "def get_cost(sqft_walls, sqft_ceiling, sqft_per_gallon, cost_per_gallon):\n",
    "    total_sqft = sqft_walls + sqft_ceiling\n",
    "    gallons_needed = total_sqft/sqft_per_gallon\n",
    "    cost = cost_per_gallon * gallons_needed\n",
    "    return cost\n",
    "\n",
    "# Check your answer\n",
    "q3.check()"
   ]
  },
  {
   "cell_type": "code",
   "execution_count": 7,
   "id": "e4934200",
   "metadata": {
    "execution": {
     "iopub.execute_input": "2023-11-05T14:34:47.661516Z",
     "iopub.status.busy": "2023-11-05T14:34:47.661292Z",
     "iopub.status.idle": "2023-11-05T14:34:47.667735Z",
     "shell.execute_reply": "2023-11-05T14:34:47.666889Z"
    },
    "papermill": {
     "duration": 0.015129,
     "end_time": "2023-11-05T14:34:47.669532",
     "exception": false,
     "start_time": "2023-11-05T14:34:47.654403",
     "status": "completed"
    },
    "tags": []
   },
   "outputs": [
    {
     "data": {
      "application/javascript": [
       "parent.postMessage({\"jupyterEvent\": \"custom.exercise_interaction\", \"data\": {\"interactionType\": 2, \"questionType\": 2, \"questionId\": \"3_GetCostPaint\", \"learnToolsVersion\": \"0.3.4\", \"valueTowardsCompletion\": 0.0, \"failureMessage\": \"\", \"exceptionClass\": \"\", \"trace\": \"\", \"outcomeType\": 4}}, \"*\")"
      ],
      "text/plain": [
       "<IPython.core.display.Javascript object>"
      ]
     },
     "metadata": {},
     "output_type": "display_data"
    },
    {
     "data": {
      "text/markdown": [
       "<span style=\"color:#3366cc\">Hint:</span> Begin by calculating the total number of square feet that need to be painted. Then, based on that, figure out how many gallons you need.  Then, once you know how many gallons you need, you can calculate the total cost of the project."
      ],
      "text/plain": [
       "Hint: Begin by calculating the total number of square feet that need to be painted. Then, based on that, figure out how many gallons you need.  Then, once you know how many gallons you need, you can calculate the total cost of the project."
      ]
     },
     "metadata": {},
     "output_type": "display_data"
    }
   ],
   "source": [
    "# Uncomment to see a hint\n",
    "q3.hint()\n",
    "\n",
    "# Uncomment to view the solution\n",
    "#q3.solution()"
   ]
  },
  {
   "cell_type": "markdown",
   "id": "bf4849e8",
   "metadata": {
    "papermill": {
     "duration": 0.005729,
     "end_time": "2023-11-05T14:34:47.681648",
     "exception": false,
     "start_time": "2023-11-05T14:34:47.675919",
     "status": "completed"
    },
    "tags": []
   },
   "source": [
    "# Question 4\n",
    "\n",
    "Use the `get_cost()` function you defined in Question 3 to calculate the cost of applying one coat of paint to a room with:\n",
    "- 432 square feet of walls, and\n",
    "- 144 square feet of ceiling.\n",
    "\n",
    "Assume that one gallon of paint covers 400 square feet and costs $15.  As in Question 3, assume you can buy partial gallons of paint.  Do not round your answer."
   ]
  },
  {
   "cell_type": "code",
   "execution_count": 8,
   "id": "10f06a3f",
   "metadata": {
    "execution": {
     "iopub.execute_input": "2023-11-05T14:34:47.694654Z",
     "iopub.status.busy": "2023-11-05T14:34:47.694405Z",
     "iopub.status.idle": "2023-11-05T14:34:47.701940Z",
     "shell.execute_reply": "2023-11-05T14:34:47.701149Z"
    },
    "papermill": {
     "duration": 0.016026,
     "end_time": "2023-11-05T14:34:47.703528",
     "exception": false,
     "start_time": "2023-11-05T14:34:47.687502",
     "status": "completed"
    },
    "tags": []
   },
   "outputs": [
    {
     "name": "stdout",
     "output_type": "stream",
     "text": [
      "21.599999999999998\n"
     ]
    },
    {
     "data": {
      "application/javascript": [
       "parent.postMessage({\"jupyterEvent\": \"custom.exercise_interaction\", \"data\": {\"outcomeType\": 1, \"valueTowardsCompletion\": 0.2, \"interactionType\": 1, \"questionType\": 1, \"questionId\": \"4_GetCostPaintExample\", \"learnToolsVersion\": \"0.3.4\", \"failureMessage\": \"\", \"exceptionClass\": \"\", \"trace\": \"\"}}, \"*\")"
      ],
      "text/plain": [
       "<IPython.core.display.Javascript object>"
      ]
     },
     "metadata": {},
     "output_type": "display_data"
    },
    {
     "data": {
      "text/markdown": [
       "<span style=\"color:#33cc33\">Correct</span>"
      ],
      "text/plain": [
       "Correct"
      ]
     },
     "metadata": {},
     "output_type": "display_data"
    }
   ],
   "source": [
    "# TODO: Set the project_cost variable to the cost of the project\n",
    "project_cost = get_cost(432,144,400,15)\n",
    "print(project_cost)\n",
    "# Check your answer\n",
    "q4.check()"
   ]
  },
  {
   "cell_type": "code",
   "execution_count": 9,
   "id": "a3f271cc",
   "metadata": {
    "execution": {
     "iopub.execute_input": "2023-11-05T14:34:47.717393Z",
     "iopub.status.busy": "2023-11-05T14:34:47.717089Z",
     "iopub.status.idle": "2023-11-05T14:34:47.720523Z",
     "shell.execute_reply": "2023-11-05T14:34:47.719714Z"
    },
    "papermill": {
     "duration": 0.012259,
     "end_time": "2023-11-05T14:34:47.721971",
     "exception": false,
     "start_time": "2023-11-05T14:34:47.709712",
     "status": "completed"
    },
    "tags": []
   },
   "outputs": [],
   "source": [
    "# Uncomment to see a hint\n",
    "#q4.hint()\n",
    "\n",
    "# Uncomment to view the solution\n",
    "#q4.solution()"
   ]
  },
  {
   "cell_type": "markdown",
   "id": "4c404509",
   "metadata": {
    "papermill": {
     "duration": 0.005911,
     "end_time": "2023-11-05T14:34:47.734193",
     "exception": false,
     "start_time": "2023-11-05T14:34:47.728282",
     "status": "completed"
    },
    "tags": []
   },
   "source": [
    "# 🌶️ Question 5\n",
    "\n",
    "Now say you can no longer buy fractions of a gallon.  (For instance, if you need 4.3 gallons to do a project, then you have to buy 5 gallons of paint.)\n",
    "\n",
    "With this new scenario, you will create a new function `get_actual_cost` that uses the same inputs and calculates the cost of your project.\n",
    "\n",
    "One function that you'll need to use to do this is `math.ceil()`.  We demonstrate usage of this function in the code cell below.  It takes as a number as input and rounds the number up to the nearest integer.  \n",
    "\n",
    "Run the next code cell to test this function for yourself.  Feel free to change the value of `test_value` and make sure `math.ceil()` returns the number you expect."
   ]
  },
  {
   "cell_type": "code",
   "execution_count": 10,
   "id": "89316a6e",
   "metadata": {
    "execution": {
     "iopub.execute_input": "2023-11-05T14:34:47.747768Z",
     "iopub.status.busy": "2023-11-05T14:34:47.747486Z",
     "iopub.status.idle": "2023-11-05T14:34:47.752669Z",
     "shell.execute_reply": "2023-11-05T14:34:47.751564Z"
    },
    "papermill": {
     "duration": 0.01392,
     "end_time": "2023-11-05T14:34:47.754278",
     "exception": false,
     "start_time": "2023-11-05T14:34:47.740358",
     "status": "completed"
    },
    "tags": []
   },
   "outputs": [
    {
     "name": "stdout",
     "output_type": "stream",
     "text": [
      "9\n",
      "3\n"
     ]
    }
   ],
   "source": [
    "test_value = 2.17\n",
    "\n",
    "rounded_value = math.ceil(test_value)\n",
    "\n",
    "test1_value = 8.4\n",
    "\n",
    "rounded1_value = math.ceil(test1_value)\n",
    "\n",
    "print(rounded1_value)\n",
    "print(rounded_value)"
   ]
  },
  {
   "cell_type": "markdown",
   "id": "32f0fa53",
   "metadata": {
    "papermill": {
     "duration": 0.00602,
     "end_time": "2023-11-05T14:34:47.766662",
     "exception": false,
     "start_time": "2023-11-05T14:34:47.760642",
     "status": "completed"
    },
    "tags": []
   },
   "source": [
    "Use the next code cell to define the function `get_actual_cost()`.  You'll need to use the `math.ceil()` function to do this.\n",
    "\n",
    "When answering this question, note that it's completely valid to define a function that makes use of another function.  For instance, we can define a function `round_up_and_divide_by_three` that makes use of the `math.ceil` function:\n",
    "```\n",
    "def round_up_and_divide_by_three(num):\n",
    "    new_value = math.ceil(num)\n",
    "    final_value = new_value / 3\n",
    "    return final_value\n",
    "```"
   ]
  },
  {
   "cell_type": "code",
   "execution_count": 11,
   "id": "fcd3d1b1",
   "metadata": {
    "execution": {
     "iopub.execute_input": "2023-11-05T14:34:47.780451Z",
     "iopub.status.busy": "2023-11-05T14:34:47.780226Z",
     "iopub.status.idle": "2023-11-05T14:34:47.788613Z",
     "shell.execute_reply": "2023-11-05T14:34:47.787765Z"
    },
    "papermill": {
     "duration": 0.017549,
     "end_time": "2023-11-05T14:34:47.790337",
     "exception": false,
     "start_time": "2023-11-05T14:34:47.772788",
     "status": "completed"
    },
    "tags": []
   },
   "outputs": [
    {
     "data": {
      "application/javascript": [
       "parent.postMessage({\"jupyterEvent\": \"custom.exercise_interaction\", \"data\": {\"outcomeType\": 1, \"valueTowardsCompletion\": 0.2, \"interactionType\": 1, \"questionType\": 2, \"questionId\": \"5_NoMoreFractions\", \"learnToolsVersion\": \"0.3.4\", \"failureMessage\": \"\", \"exceptionClass\": \"\", \"trace\": \"\"}}, \"*\")"
      ],
      "text/plain": [
       "<IPython.core.display.Javascript object>"
      ]
     },
     "metadata": {},
     "output_type": "display_data"
    },
    {
     "data": {
      "text/markdown": [
       "<span style=\"color:#33cc33\">Correct</span>"
      ],
      "text/plain": [
       "Correct"
      ]
     },
     "metadata": {},
     "output_type": "display_data"
    }
   ],
   "source": [
    "def get_actual_cost(sqft_walls, sqft_ceiling, sqft_per_gallon, cost_per_gallon):\n",
    "    total_sqft = sqft_walls + sqft_ceiling\n",
    "    gallons_needed = total_sqft/sqft_per_gallon\n",
    "    gallons_actual = math.ceil(gallons_needed)\n",
    "    cost = cost_per_gallon * gallons_actual\n",
    "    return cost\n",
    "\n",
    "\n",
    "# Check your answer\n",
    "q5.check()"
   ]
  },
  {
   "cell_type": "code",
   "execution_count": 12,
   "id": "c735b18b",
   "metadata": {
    "execution": {
     "iopub.execute_input": "2023-11-05T14:34:47.804539Z",
     "iopub.status.busy": "2023-11-05T14:34:47.804273Z",
     "iopub.status.idle": "2023-11-05T14:34:47.807858Z",
     "shell.execute_reply": "2023-11-05T14:34:47.807042Z"
    },
    "papermill": {
     "duration": 0.012739,
     "end_time": "2023-11-05T14:34:47.809682",
     "exception": false,
     "start_time": "2023-11-05T14:34:47.796943",
     "status": "completed"
    },
    "tags": []
   },
   "outputs": [],
   "source": [
    "# Uncomment to see a hint\n",
    "#q5.hint()\n",
    "\n",
    "# Uncomment to view the solution\n",
    "#q5.solution()"
   ]
  },
  {
   "cell_type": "markdown",
   "id": "9eba7232",
   "metadata": {
    "papermill": {
     "duration": 0.006336,
     "end_time": "2023-11-05T14:34:47.823448",
     "exception": false,
     "start_time": "2023-11-05T14:34:47.817112",
     "status": "completed"
    },
    "tags": []
   },
   "source": [
    "Once your function is verified as correct, run the next code cell to calculate the updated cost of your project."
   ]
  },
  {
   "cell_type": "code",
   "execution_count": 13,
   "id": "c4b24b68",
   "metadata": {
    "execution": {
     "iopub.execute_input": "2023-11-05T14:34:47.837371Z",
     "iopub.status.busy": "2023-11-05T14:34:47.837045Z",
     "iopub.status.idle": "2023-11-05T14:34:47.841353Z",
     "shell.execute_reply": "2023-11-05T14:34:47.840899Z"
    },
    "papermill": {
     "duration": 0.013028,
     "end_time": "2023-11-05T14:34:47.842790",
     "exception": false,
     "start_time": "2023-11-05T14:34:47.829762",
     "status": "completed"
    },
    "tags": []
   },
   "outputs": [
    {
     "data": {
      "text/plain": [
       "30"
      ]
     },
     "execution_count": 13,
     "metadata": {},
     "output_type": "execute_result"
    }
   ],
   "source": [
    "get_actual_cost(432, 144, 400, 15) "
   ]
  },
  {
   "cell_type": "markdown",
   "id": "c55d21be",
   "metadata": {
    "papermill": {
     "duration": 0.00636,
     "end_time": "2023-11-05T14:34:47.855858",
     "exception": false,
     "start_time": "2023-11-05T14:34:47.849498",
     "status": "completed"
    },
    "tags": []
   },
   "source": [
    "Say you're working with a slightly larger room.  Run the next code cell to calculate the cost of the project."
   ]
  },
  {
   "cell_type": "code",
   "execution_count": 14,
   "id": "5181035d",
   "metadata": {
    "execution": {
     "iopub.execute_input": "2023-11-05T14:34:47.869935Z",
     "iopub.status.busy": "2023-11-05T14:34:47.869713Z",
     "iopub.status.idle": "2023-11-05T14:34:47.873717Z",
     "shell.execute_reply": "2023-11-05T14:34:47.872953Z"
    },
    "papermill": {
     "duration": 0.013263,
     "end_time": "2023-11-05T14:34:47.875606",
     "exception": false,
     "start_time": "2023-11-05T14:34:47.862343",
     "status": "completed"
    },
    "tags": []
   },
   "outputs": [
    {
     "data": {
      "text/plain": [
       "45"
      ]
     },
     "execution_count": 14,
     "metadata": {},
     "output_type": "execute_result"
    }
   ],
   "source": [
    "get_actual_cost(594, 288, 400, 15) "
   ]
  },
  {
   "cell_type": "markdown",
   "id": "c30c06a8",
   "metadata": {
    "papermill": {
     "duration": 0.006486,
     "end_time": "2023-11-05T14:34:47.889139",
     "exception": false,
     "start_time": "2023-11-05T14:34:47.882653",
     "status": "completed"
    },
    "tags": []
   },
   "source": [
    "# Keep going\n",
    "\n",
    "Continue to learn about **[data types](https://www.kaggle.com/alexisbcook/data-types)**."
   ]
  },
  {
   "cell_type": "markdown",
   "id": "0cd9d209",
   "metadata": {
    "papermill": {
     "duration": 0.006398,
     "end_time": "2023-11-05T14:34:47.902453",
     "exception": false,
     "start_time": "2023-11-05T14:34:47.896055",
     "status": "completed"
    },
    "tags": []
   },
   "source": [
    "---\n",
    "\n",
    "\n",
    "\n",
    "\n",
    "*Have questions or comments? Visit the [course discussion forum](https://www.kaggle.com/learn/intro-to-programming/discussion) to chat with other learners.*"
   ]
  }
 ],
 "metadata": {
  "kernelspec": {
   "display_name": "Python 3",
   "language": "python",
   "name": "python3"
  },
  "language_info": {
   "codemirror_mode": {
    "name": "ipython",
    "version": 3
   },
   "file_extension": ".py",
   "mimetype": "text/x-python",
   "name": "python",
   "nbconvert_exporter": "python",
   "pygments_lexer": "ipython3",
   "version": "3.10.12"
  },
  "papermill": {
   "default_parameters": {},
   "duration": 3.621809,
   "end_time": "2023-11-05T14:34:48.225324",
   "environment_variables": {},
   "exception": null,
   "input_path": "__notebook__.ipynb",
   "output_path": "__notebook__.ipynb",
   "parameters": {},
   "start_time": "2023-11-05T14:34:44.603515",
   "version": "2.4.0"
  }
 },
 "nbformat": 4,
 "nbformat_minor": 5
}
