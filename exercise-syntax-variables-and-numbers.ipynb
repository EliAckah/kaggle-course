{
 "cells": [
  {
   "cell_type": "markdown",
   "id": "3476ccd4",
   "metadata": {
    "papermill": {
     "duration": 0.006465,
     "end_time": "2023-11-05T14:43:11.956397",
     "exception": false,
     "start_time": "2023-11-05T14:43:11.949932",
     "status": "completed"
    },
    "tags": []
   },
   "source": [
    "**This notebook is an exercise in the [Python](https://www.kaggle.com/learn/python) course.  You can reference the tutorial at [this link](https://www.kaggle.com/colinmorris/hello-python).**\n",
    "\n",
    "---\n"
   ]
  },
  {
   "cell_type": "markdown",
   "id": "7530a5e5",
   "metadata": {
    "papermill": {
     "duration": 0.005062,
     "end_time": "2023-11-05T14:43:11.967381",
     "exception": false,
     "start_time": "2023-11-05T14:43:11.962319",
     "status": "completed"
    },
    "tags": []
   },
   "source": [
    "Welcome to your first set of Python coding problems.  If this is your first time using Kaggle Notebooks, welcome! \n",
    "\n",
    "Notebooks are composed of blocks (called \"cells\") of text and code. Each of these is editable, though you'll mainly be editing the code cells to answer some questions.\n",
    "\n",
    "To get started, try running the code cell below (by pressing the ► button, or clicking on the cell and pressing ctrl+enter on your keyboard)."
   ]
  },
  {
   "cell_type": "code",
   "execution_count": 1,
   "id": "a70983fe",
   "metadata": {
    "execution": {
     "iopub.execute_input": "2023-11-05T14:43:11.979799Z",
     "iopub.status.busy": "2023-11-05T14:43:11.979434Z",
     "iopub.status.idle": "2023-11-05T14:43:11.988810Z",
     "shell.execute_reply": "2023-11-05T14:43:11.987840Z"
    },
    "papermill": {
     "duration": 0.017734,
     "end_time": "2023-11-05T14:43:11.990569",
     "exception": false,
     "start_time": "2023-11-05T14:43:11.972835",
     "status": "completed"
    },
    "tags": []
   },
   "outputs": [
    {
     "name": "stdout",
     "output_type": "stream",
     "text": [
      "You've successfully run some Python code\n",
      "Congratulations!\n",
      "2\n"
     ]
    }
   ],
   "source": [
    "print(\"You've successfully run some Python code\")\n",
    "print(\"Congratulations!\")\n",
    "print(23%3)"
   ]
  },
  {
   "cell_type": "markdown",
   "id": "26ef8dbf",
   "metadata": {
    "papermill": {
     "duration": 0.005095,
     "end_time": "2023-11-05T14:43:12.001495",
     "exception": false,
     "start_time": "2023-11-05T14:43:11.996400",
     "status": "completed"
    },
    "tags": []
   },
   "source": [
    "Try adding another line of code in the cell above and re-running it. \n",
    "\n",
    "Now let's get a little fancier:  Add a new code cell by clicking on an existing code cell, hitting the escape key, and then hitting the `a` or `b` key.  The `a` key will add a cell above the current cell, and `b` adds a cell below.\n",
    "\n",
    "Great! Now you know how to use Notebooks.\n",
    "\n",
    "Each hands-on exercise starts by setting up our feedback and code checking mechanism. Run the code cell below to do that. Then you'll be ready to move on to question 0."
   ]
  },
  {
   "cell_type": "code",
   "execution_count": 2,
   "id": "e372b23f",
   "metadata": {
    "_kg_hide-input": true,
    "_kg_hide-output": true,
    "execution": {
     "iopub.execute_input": "2023-11-05T14:43:12.014234Z",
     "iopub.status.busy": "2023-11-05T14:43:12.013615Z",
     "iopub.status.idle": "2023-11-05T14:43:12.348736Z",
     "shell.execute_reply": "2023-11-05T14:43:12.347445Z"
    },
    "papermill": {
     "duration": 0.344083,
     "end_time": "2023-11-05T14:43:12.350992",
     "exception": false,
     "start_time": "2023-11-05T14:43:12.006909",
     "status": "completed"
    },
    "tags": []
   },
   "outputs": [
    {
     "name": "stdout",
     "output_type": "stream",
     "text": [
      "Setup complete! You're ready to start question 0.\n"
     ]
    }
   ],
   "source": [
    "from learntools.core import binder; binder.bind(globals())\n",
    "from learntools.python.ex1 import *\n",
    "print(\"Setup complete! You're ready to start question 0.\")"
   ]
  },
  {
   "cell_type": "markdown",
   "id": "abedc00a",
   "metadata": {
    "papermill": {
     "duration": 0.005994,
     "end_time": "2023-11-05T14:43:12.362962",
     "exception": false,
     "start_time": "2023-11-05T14:43:12.356968",
     "status": "completed"
    },
    "tags": []
   },
   "source": [
    "# 0.\n",
    "\n",
    "*This is a silly question intended as an introduction to the format we use for hands-on exercises throughout all Kaggle courses.*\n",
    "\n",
    "**What is your favorite color? **\n",
    "\n",
    "To complete this question, create a variable called `color` in the cell below with an appropriate value. The function call `q0.check()` (which we've already provided in the cell below) will check your answer."
   ]
  },
  {
   "cell_type": "code",
   "execution_count": 3,
   "id": "12b8f73c",
   "metadata": {
    "execution": {
     "iopub.execute_input": "2023-11-05T14:43:12.375820Z",
     "iopub.status.busy": "2023-11-05T14:43:12.375345Z",
     "iopub.status.idle": "2023-11-05T14:43:12.384924Z",
     "shell.execute_reply": "2023-11-05T14:43:12.383380Z"
    },
    "papermill": {
     "duration": 0.018571,
     "end_time": "2023-11-05T14:43:12.387101",
     "exception": false,
     "start_time": "2023-11-05T14:43:12.368530",
     "status": "completed"
    },
    "tags": []
   },
   "outputs": [
    {
     "data": {
      "application/javascript": [
       "parent.postMessage({\"jupyterEvent\": \"custom.exercise_interaction\", \"data\": {\"outcomeType\": 1, \"valueTowardsCompletion\": 0.25, \"interactionType\": 1, \"questionType\": 2, \"questionId\": \"0_ExerciseFormatTutorial\", \"learnToolsVersion\": \"0.3.4\", \"failureMessage\": \"\", \"exceptionClass\": \"\", \"trace\": \"\"}}, \"*\")"
      ],
      "text/plain": [
       "<IPython.core.display.Javascript object>"
      ]
     },
     "metadata": {},
     "output_type": "display_data"
    },
    {
     "data": {
      "text/markdown": [
       "<span style=\"color:#33cc33\">Correct:</span> What?! You got it right without needing a hint or anything? Drats. Well hey, you should still continue to the next step to get some practice asking for a hint and checking solutions. (Even though you obviously don't need any help here.)"
      ],
      "text/plain": [
       "Correct: What?! You got it right without needing a hint or anything? Drats. Well hey, you should still continue to the next step to get some practice asking for a hint and checking solutions. (Even though you obviously don't need any help here.)"
      ]
     },
     "metadata": {},
     "output_type": "display_data"
    }
   ],
   "source": [
    "# create a variable called color with an appropriate value on the line below\n",
    "# (Remember, strings in Python must be enclosed in 'single' or \"double\" quotes)\n",
    "color = \"blue\"\n",
    "\n",
    "# Check your answer\n",
    "q0.check()"
   ]
  },
  {
   "cell_type": "markdown",
   "id": "179ebc56",
   "metadata": {
    "papermill": {
     "duration": 0.005743,
     "end_time": "2023-11-05T14:43:12.399001",
     "exception": false,
     "start_time": "2023-11-05T14:43:12.393258",
     "status": "completed"
    },
    "tags": []
   },
   "source": [
    "Didn't get the right answer? How do you not even know your own favorite color?!\n",
    "\n",
    "Delete the `#` in the line below to make one of the lines run. You can choose between getting a hint or the full answer by choosing which line to remove the `#` from. \n",
    "\n",
    "Removing the `#` is called uncommenting, because it changes that line from a \"comment\" which Python doesn't run to code, which Python does run."
   ]
  },
  {
   "cell_type": "code",
   "execution_count": 4,
   "id": "add4f09a",
   "metadata": {
    "execution": {
     "iopub.execute_input": "2023-11-05T14:43:12.412442Z",
     "iopub.status.busy": "2023-11-05T14:43:12.412094Z",
     "iopub.status.idle": "2023-11-05T14:43:12.419215Z",
     "shell.execute_reply": "2023-11-05T14:43:12.418216Z"
    },
    "papermill": {
     "duration": 0.015935,
     "end_time": "2023-11-05T14:43:12.420860",
     "exception": false,
     "start_time": "2023-11-05T14:43:12.404925",
     "status": "completed"
    },
    "tags": []
   },
   "outputs": [
    {
     "data": {
      "application/javascript": [
       "parent.postMessage({\"jupyterEvent\": \"custom.exercise_interaction\", \"data\": {\"interactionType\": 2, \"questionType\": 2, \"questionId\": \"0_ExerciseFormatTutorial\", \"learnToolsVersion\": \"0.3.4\", \"valueTowardsCompletion\": 0.0, \"failureMessage\": \"\", \"exceptionClass\": \"\", \"trace\": \"\", \"outcomeType\": 4}}, \"*\")"
      ],
      "text/plain": [
       "<IPython.core.display.Javascript object>"
      ]
     },
     "metadata": {},
     "output_type": "display_data"
    },
    {
     "data": {
      "text/markdown": [
       "<span style=\"color:#3366cc\">Hint:</span> Your favorite color rhymes with *glue*."
      ],
      "text/plain": [
       "Hint: Your favorite color rhymes with *glue*."
      ]
     },
     "metadata": {},
     "output_type": "display_data"
    }
   ],
   "source": [
    "q0.hint()\n",
    "#q0.solution()"
   ]
  },
  {
   "cell_type": "markdown",
   "id": "1811abd2",
   "metadata": {
    "papermill": {
     "duration": 0.005954,
     "end_time": "2023-11-05T14:43:12.432903",
     "exception": false,
     "start_time": "2023-11-05T14:43:12.426949",
     "status": "completed"
    },
    "tags": []
   },
   "source": [
    "The upcoming questions work the same way. The only thing that will change are the question numbers. For the next question, you'll call `q1.check()`, `q1.hint()`, `q1.solution()`, for question 2, you'll call `q2.check()`, and so on."
   ]
  },
  {
   "cell_type": "markdown",
   "id": "5a223e0b",
   "metadata": {
    "papermill": {
     "duration": 0.005766,
     "end_time": "2023-11-05T14:43:12.444704",
     "exception": false,
     "start_time": "2023-11-05T14:43:12.438938",
     "status": "completed"
    },
    "tags": []
   },
   "source": [
    "<hr/>\n",
    "\n",
    "# 1.\n",
    "\n",
    "Complete the code below. In case it's helpful, here is the table of available arithmetic operations:\n",
    "\n",
    "\n",
    "\n",
    "| Operator     | Name           | Description                                            |\n",
    "|--------------|----------------|--------------------------------------------------------|\n",
    "| ``a + b``    | Addition       | Sum of ``a`` and ``b``                                 |\n",
    "| ``a - b``    | Subtraction    | Difference of ``a`` and ``b``                          |\n",
    "| ``a * b``    | Multiplication | Product of ``a`` and ``b``                             |\n",
    "| ``a / b``    | True division  | Quotient of ``a`` and ``b``                            |\n",
    "| ``a // b``   | Floor division | Quotient of ``a`` and ``b``, removing fractional parts |\n",
    "| ``a % b``    | Modulus        | Integer remainder after division of ``a`` by ``b``     |\n",
    "| ``a ** b``   | Exponentiation | ``a`` raised to the power of ``b``                     |\n",
    "| ``-a``       | Negation       | The negative of ``a``                                  |\n",
    "\n",
    "<span style=\"display:none\"></span>\n"
   ]
  },
  {
   "cell_type": "code",
   "execution_count": 5,
   "id": "cbdb2a20",
   "metadata": {
    "execution": {
     "iopub.execute_input": "2023-11-05T14:43:12.458901Z",
     "iopub.status.busy": "2023-11-05T14:43:12.458383Z",
     "iopub.status.idle": "2023-11-05T14:43:12.464910Z",
     "shell.execute_reply": "2023-11-05T14:43:12.464212Z"
    },
    "papermill": {
     "duration": 0.015784,
     "end_time": "2023-11-05T14:43:12.466600",
     "exception": false,
     "start_time": "2023-11-05T14:43:12.450816",
     "status": "completed"
    },
    "tags": []
   },
   "outputs": [
    {
     "data": {
      "application/javascript": [
       "parent.postMessage({\"jupyterEvent\": \"custom.exercise_interaction\", \"data\": {\"outcomeType\": 1, \"valueTowardsCompletion\": 0.25, \"interactionType\": 1, \"questionType\": 1, \"questionId\": \"1_CircleArea\", \"learnToolsVersion\": \"0.3.4\", \"failureMessage\": \"\", \"exceptionClass\": \"\", \"trace\": \"\"}}, \"*\")"
      ],
      "text/plain": [
       "<IPython.core.display.Javascript object>"
      ]
     },
     "metadata": {},
     "output_type": "display_data"
    },
    {
     "data": {
      "text/markdown": [
       "<span style=\"color:#33cc33\">Correct</span>"
      ],
      "text/plain": [
       "Correct"
      ]
     },
     "metadata": {},
     "output_type": "display_data"
    }
   ],
   "source": [
    "pi = 3.14159 # approximate\n",
    "diameter = 3\n",
    "\n",
    "# Create a variable called 'radius' equal to half the diameter\n",
    "radius = 0.5*diameter\n",
    "\n",
    "# Create a variable called 'area', using the formula for the area of a circle: pi times the radius squared\n",
    "area = pi * radius**2\n",
    "\n",
    "# Check your answer\n",
    "q1.check()"
   ]
  },
  {
   "cell_type": "code",
   "execution_count": 6,
   "id": "1464b0cf",
   "metadata": {
    "execution": {
     "iopub.execute_input": "2023-11-05T14:43:12.481899Z",
     "iopub.status.busy": "2023-11-05T14:43:12.481387Z",
     "iopub.status.idle": "2023-11-05T14:43:12.484592Z",
     "shell.execute_reply": "2023-11-05T14:43:12.483995Z"
    },
    "papermill": {
     "duration": 0.013116,
     "end_time": "2023-11-05T14:43:12.486466",
     "exception": false,
     "start_time": "2023-11-05T14:43:12.473350",
     "status": "completed"
    },
    "tags": []
   },
   "outputs": [],
   "source": [
    "# Uncomment and run the lines below if you need help.\n",
    "#q1.hint()\n",
    "#q1.solution()"
   ]
  },
  {
   "cell_type": "markdown",
   "id": "d7c5d2dd",
   "metadata": {
    "papermill": {
     "duration": 0.00604,
     "end_time": "2023-11-05T14:43:12.499057",
     "exception": false,
     "start_time": "2023-11-05T14:43:12.493017",
     "status": "completed"
    },
    "tags": []
   },
   "source": [
    "<hr/>\n",
    "\n",
    "# 2.\n",
    "\n",
    "Add code to the following cell to swap variables `a` and `b` (so that `a` refers to the object previously referred to by `b` and vice versa)."
   ]
  },
  {
   "cell_type": "code",
   "execution_count": 7,
   "id": "e9b2b12f",
   "metadata": {
    "execution": {
     "iopub.execute_input": "2023-11-05T14:43:12.513824Z",
     "iopub.status.busy": "2023-11-05T14:43:12.513291Z",
     "iopub.status.idle": "2023-11-05T14:43:12.520706Z",
     "shell.execute_reply": "2023-11-05T14:43:12.519705Z"
    },
    "papermill": {
     "duration": 0.017498,
     "end_time": "2023-11-05T14:43:12.522757",
     "exception": false,
     "start_time": "2023-11-05T14:43:12.505259",
     "status": "completed"
    },
    "tags": []
   },
   "outputs": [
    {
     "data": {
      "application/javascript": [
       "parent.postMessage({\"jupyterEvent\": \"custom.exercise_interaction\", \"data\": {\"outcomeType\": 1, \"valueTowardsCompletion\": 0.25, \"interactionType\": 1, \"questionType\": 2, \"questionId\": \"2_VariableSwap\", \"learnToolsVersion\": \"0.3.4\", \"failureMessage\": \"\", \"exceptionClass\": \"\", \"trace\": \"\"}}, \"*\")"
      ],
      "text/plain": [
       "<IPython.core.display.Javascript object>"
      ]
     },
     "metadata": {},
     "output_type": "display_data"
    },
    {
     "data": {
      "text/markdown": [
       "<span style=\"color:#33cc33\">Correct:</span> \n",
       "\n",
       "The most straightforward solution is to use a third variable to temporarily store one of the old values. e.g.:\n",
       "\n",
       "    tmp = a\n",
       "    a = b\n",
       "    b = tmp\n",
       "\n",
       "If you've read lots of Python code, you might have seen the following trick to swap two variables in one line:\n",
       "\n",
       "    a, b = b, a\n",
       "\n",
       "We'll demystify this bit of Python magic later when we talk about *tuples*."
      ],
      "text/plain": [
       "Correct: \n",
       "\n",
       "The most straightforward solution is to use a third variable to temporarily store one of the old values. e.g.:\n",
       "\n",
       "    tmp = a\n",
       "    a = b\n",
       "    b = tmp\n",
       "\n",
       "If you've read lots of Python code, you might have seen the following trick to swap two variables in one line:\n",
       "\n",
       "    a, b = b, a\n",
       "\n",
       "We'll demystify this bit of Python magic later when we talk about *tuples*."
      ]
     },
     "metadata": {},
     "output_type": "display_data"
    }
   ],
   "source": [
    "########### Setup code - don't touch this part ######################\n",
    "# If you're curious, these are examples of lists. We'll talk about \n",
    "# them in depth a few lessons from now. For now, just know that they're\n",
    "# yet another type of Python object, like int or float.\n",
    "a = [1, 2, 3]\n",
    "b = [3, 2, 1]\n",
    "q2.store_original_ids()\n",
    "######################################################################\n",
    "\n",
    "# Your code goes here. Swap the values to which a and b refer.\n",
    "# If you get stuck, you can always uncomment one or both of the lines in\n",
    "# the next cell for a hint, or to peek at the solution.\n",
    "b,a = a,b\n",
    "######################################################################\n",
    "\n",
    "# Check your answer\n",
    "q2.check()"
   ]
  },
  {
   "cell_type": "code",
   "execution_count": 8,
   "id": "6d167894",
   "metadata": {
    "execution": {
     "iopub.execute_input": "2023-11-05T14:43:12.538390Z",
     "iopub.status.busy": "2023-11-05T14:43:12.537830Z",
     "iopub.status.idle": "2023-11-05T14:43:12.544736Z",
     "shell.execute_reply": "2023-11-05T14:43:12.543839Z"
    },
    "papermill": {
     "duration": 0.017233,
     "end_time": "2023-11-05T14:43:12.546926",
     "exception": false,
     "start_time": "2023-11-05T14:43:12.529693",
     "status": "completed"
    },
    "tags": []
   },
   "outputs": [
    {
     "data": {
      "application/javascript": [
       "parent.postMessage({\"jupyterEvent\": \"custom.exercise_interaction\", \"data\": {\"interactionType\": 2, \"questionType\": 2, \"questionId\": \"2_VariableSwap\", \"learnToolsVersion\": \"0.3.4\", \"valueTowardsCompletion\": 0.0, \"failureMessage\": \"\", \"exceptionClass\": \"\", \"trace\": \"\", \"outcomeType\": 4}}, \"*\")"
      ],
      "text/plain": [
       "<IPython.core.display.Javascript object>"
      ]
     },
     "metadata": {},
     "output_type": "display_data"
    },
    {
     "data": {
      "text/markdown": [
       "<span style=\"color:#3366cc\">Hint:</span> Try using a third variable."
      ],
      "text/plain": [
       "Hint: Try using a third variable."
      ]
     },
     "metadata": {},
     "output_type": "display_data"
    }
   ],
   "source": [
    "q2.hint()"
   ]
  },
  {
   "cell_type": "code",
   "execution_count": 9,
   "id": "cdedd863",
   "metadata": {
    "execution": {
     "iopub.execute_input": "2023-11-05T14:43:12.561991Z",
     "iopub.status.busy": "2023-11-05T14:43:12.561710Z",
     "iopub.status.idle": "2023-11-05T14:43:12.565287Z",
     "shell.execute_reply": "2023-11-05T14:43:12.564539Z"
    },
    "papermill": {
     "duration": 0.013016,
     "end_time": "2023-11-05T14:43:12.566757",
     "exception": false,
     "start_time": "2023-11-05T14:43:12.553741",
     "status": "completed"
    },
    "tags": []
   },
   "outputs": [],
   "source": [
    "#q2.solution()"
   ]
  },
  {
   "cell_type": "markdown",
   "id": "dbf61616",
   "metadata": {
    "papermill": {
     "duration": 0.006166,
     "end_time": "2023-11-05T14:43:12.579423",
     "exception": false,
     "start_time": "2023-11-05T14:43:12.573257",
     "status": "completed"
    },
    "tags": []
   },
   "source": [
    "<hr/>\n",
    "\n",
    "# 3a.\n",
    "\n",
    "Add parentheses to the following expression so that it evaluates to 1."
   ]
  },
  {
   "cell_type": "code",
   "execution_count": 10,
   "id": "ddb8a2fe",
   "metadata": {
    "execution": {
     "iopub.execute_input": "2023-11-05T14:43:12.593989Z",
     "iopub.status.busy": "2023-11-05T14:43:12.593235Z",
     "iopub.status.idle": "2023-11-05T14:43:12.600454Z",
     "shell.execute_reply": "2023-11-05T14:43:12.599193Z"
    },
    "papermill": {
     "duration": 0.016708,
     "end_time": "2023-11-05T14:43:12.602502",
     "exception": false,
     "start_time": "2023-11-05T14:43:12.585794",
     "status": "completed"
    },
    "tags": []
   },
   "outputs": [
    {
     "data": {
      "text/plain": [
       "1"
      ]
     },
     "execution_count": 10,
     "metadata": {},
     "output_type": "execute_result"
    }
   ],
   "source": [
    "(5 - 3) // 2"
   ]
  },
  {
   "cell_type": "code",
   "execution_count": 11,
   "id": "840044ff",
   "metadata": {
    "execution": {
     "iopub.execute_input": "2023-11-05T14:43:12.617508Z",
     "iopub.status.busy": "2023-11-05T14:43:12.617183Z",
     "iopub.status.idle": "2023-11-05T14:43:12.621567Z",
     "shell.execute_reply": "2023-11-05T14:43:12.620626Z"
    },
    "papermill": {
     "duration": 0.014201,
     "end_time": "2023-11-05T14:43:12.623418",
     "exception": false,
     "start_time": "2023-11-05T14:43:12.609217",
     "status": "completed"
    },
    "tags": []
   },
   "outputs": [],
   "source": [
    "#q3.a.hint()"
   ]
  },
  {
   "cell_type": "code",
   "execution_count": 12,
   "id": "3d38cbbd",
   "metadata": {
    "execution": {
     "iopub.execute_input": "2023-11-05T14:43:12.638470Z",
     "iopub.status.busy": "2023-11-05T14:43:12.638097Z",
     "iopub.status.idle": "2023-11-05T14:43:12.645411Z",
     "shell.execute_reply": "2023-11-05T14:43:12.644767Z"
    },
    "papermill": {
     "duration": 0.017125,
     "end_time": "2023-11-05T14:43:12.647366",
     "exception": false,
     "start_time": "2023-11-05T14:43:12.630241",
     "status": "completed"
    },
    "tags": []
   },
   "outputs": [
    {
     "data": {
      "application/javascript": [
       "parent.postMessage({\"jupyterEvent\": \"custom.exercise_interaction\", \"data\": {\"interactionType\": 3, \"questionType\": 4, \"questionId\": \"3.1_ArithmeticParensEasy\", \"learnToolsVersion\": \"0.3.4\", \"valueTowardsCompletion\": 0.0, \"failureMessage\": \"\", \"exceptionClass\": \"\", \"trace\": \"\", \"outcomeType\": 4}}, \"*\")"
      ],
      "text/plain": [
       "<IPython.core.display.Javascript object>"
      ]
     },
     "metadata": {},
     "output_type": "display_data"
    },
    {
     "data": {
      "text/markdown": [
       "<span style=\"color:#33cc99\">Solution:</span> \n",
       "```python\n",
       "(5 - 3) // 2\n",
       "```"
      ],
      "text/plain": [
       "Solution: \n",
       "```python\n",
       "(5 - 3) // 2\n",
       "```"
      ]
     },
     "metadata": {},
     "output_type": "display_data"
    }
   ],
   "source": [
    "# Check your answer (Run this code cell to receive credit!)\n",
    "q3.a.solution()"
   ]
  },
  {
   "cell_type": "markdown",
   "id": "3b6a5c31",
   "metadata": {
    "papermill": {
     "duration": 0.006995,
     "end_time": "2023-11-05T14:43:12.661830",
     "exception": false,
     "start_time": "2023-11-05T14:43:12.654835",
     "status": "completed"
    },
    "tags": []
   },
   "source": [
    "# 3b.  <span title=\"A bit spicy\" style=\"color: darkgreen \">🌶️</span>\n",
    "\n",
    "<small>Questions, like this one, marked a spicy pepper are a bit harder.</small>\n",
    "\n",
    "Add parentheses to the following expression so that it evaluates to 0."
   ]
  },
  {
   "cell_type": "code",
   "execution_count": 13,
   "id": "e5f952ce",
   "metadata": {
    "execution": {
     "iopub.execute_input": "2023-11-05T14:43:12.677824Z",
     "iopub.status.busy": "2023-11-05T14:43:12.677534Z",
     "iopub.status.idle": "2023-11-05T14:43:12.682536Z",
     "shell.execute_reply": "2023-11-05T14:43:12.681565Z"
    },
    "papermill": {
     "duration": 0.015146,
     "end_time": "2023-11-05T14:43:12.684145",
     "exception": false,
     "start_time": "2023-11-05T14:43:12.668999",
     "status": "completed"
    },
    "tags": []
   },
   "outputs": [
    {
     "data": {
      "text/plain": [
       "0"
      ]
     },
     "execution_count": 13,
     "metadata": {},
     "output_type": "execute_result"
    }
   ],
   "source": [
    "8 - (3 * 2) - (1 + 1)"
   ]
  },
  {
   "cell_type": "code",
   "execution_count": 14,
   "id": "7df00b19",
   "metadata": {
    "execution": {
     "iopub.execute_input": "2023-11-05T14:43:12.700086Z",
     "iopub.status.busy": "2023-11-05T14:43:12.699544Z",
     "iopub.status.idle": "2023-11-05T14:43:12.703364Z",
     "shell.execute_reply": "2023-11-05T14:43:12.702261Z"
    },
    "papermill": {
     "duration": 0.013585,
     "end_time": "2023-11-05T14:43:12.705054",
     "exception": false,
     "start_time": "2023-11-05T14:43:12.691469",
     "status": "completed"
    },
    "tags": []
   },
   "outputs": [],
   "source": [
    "#q3.b.hint()"
   ]
  },
  {
   "cell_type": "code",
   "execution_count": 15,
   "id": "33d72760",
   "metadata": {
    "execution": {
     "iopub.execute_input": "2023-11-05T14:43:12.722280Z",
     "iopub.status.busy": "2023-11-05T14:43:12.721651Z",
     "iopub.status.idle": "2023-11-05T14:43:12.729403Z",
     "shell.execute_reply": "2023-11-05T14:43:12.728565Z"
    },
    "papermill": {
     "duration": 0.018437,
     "end_time": "2023-11-05T14:43:12.731229",
     "exception": false,
     "start_time": "2023-11-05T14:43:12.712792",
     "status": "completed"
    },
    "tags": []
   },
   "outputs": [
    {
     "data": {
      "application/javascript": [
       "parent.postMessage({\"jupyterEvent\": \"custom.exercise_interaction\", \"data\": {\"interactionType\": 3, \"questionType\": 4, \"questionId\": \"3.2_ArithmeticParensHard\", \"learnToolsVersion\": \"0.3.4\", \"valueTowardsCompletion\": 0.0, \"failureMessage\": \"\", \"exceptionClass\": \"\", \"trace\": \"\", \"outcomeType\": 4}}, \"*\")"
      ],
      "text/plain": [
       "<IPython.core.display.Javascript object>"
      ]
     },
     "metadata": {},
     "output_type": "display_data"
    },
    {
     "data": {
      "text/markdown": [
       "<span style=\"color:#33cc99\">Solution:</span> `(8 - 3) * (2 - (1 + 1))` is one solution. There may be others."
      ],
      "text/plain": [
       "Solution: `(8 - 3) * (2 - (1 + 1))` is one solution. There may be others."
      ]
     },
     "metadata": {},
     "output_type": "display_data"
    }
   ],
   "source": [
    "# Check your answer (Run this code cell to receive credit!)\n",
    "q3.b.solution()"
   ]
  },
  {
   "cell_type": "markdown",
   "id": "3510ff9a",
   "metadata": {
    "papermill": {
     "duration": 0.007248,
     "end_time": "2023-11-05T14:43:12.746123",
     "exception": false,
     "start_time": "2023-11-05T14:43:12.738875",
     "status": "completed"
    },
    "tags": []
   },
   "source": [
    "<hr/>\n",
    "\n",
    "# 4. \n",
    "Alice, Bob and Carol have agreed to pool their Halloween candy and split it evenly among themselves.\n",
    "For the sake of their friendship, any candies left over will be smashed. For example, if they collectively\n",
    "bring home 91 candies, they'll take 30 each and smash 1.\n",
    "\n",
    "Write an arithmetic expression below to calculate how many candies they must smash for a given haul."
   ]
  },
  {
   "cell_type": "code",
   "execution_count": 16,
   "id": "5c37da2a",
   "metadata": {
    "execution": {
     "iopub.execute_input": "2023-11-05T14:43:12.762119Z",
     "iopub.status.busy": "2023-11-05T14:43:12.761766Z",
     "iopub.status.idle": "2023-11-05T14:43:12.771107Z",
     "shell.execute_reply": "2023-11-05T14:43:12.769651Z"
    },
    "papermill": {
     "duration": 0.020198,
     "end_time": "2023-11-05T14:43:12.773440",
     "exception": false,
     "start_time": "2023-11-05T14:43:12.753242",
     "status": "completed"
    },
    "tags": []
   },
   "outputs": [
    {
     "data": {
      "application/javascript": [
       "parent.postMessage({\"jupyterEvent\": \"custom.exercise_interaction\", \"data\": {\"outcomeType\": 1, \"valueTowardsCompletion\": 0.25, \"interactionType\": 1, \"questionType\": 1, \"questionId\": \"4_CandySplitting\", \"learnToolsVersion\": \"0.3.4\", \"failureMessage\": \"\", \"exceptionClass\": \"\", \"trace\": \"\"}}, \"*\")"
      ],
      "text/plain": [
       "<IPython.core.display.Javascript object>"
      ]
     },
     "metadata": {},
     "output_type": "display_data"
    },
    {
     "data": {
      "text/markdown": [
       "<span style=\"color:#33cc33\">Correct</span>"
      ],
      "text/plain": [
       "Correct"
      ]
     },
     "metadata": {},
     "output_type": "display_data"
    }
   ],
   "source": [
    "# Variables representing the number of candies collected by alice, bob, and carol\n",
    "alice_candies = 121\n",
    "bob_candies = 77\n",
    "carol_candies = 109\n",
    "\n",
    "# Your code goes here! Replace the right-hand side of this assignment with an expression\n",
    "# involving alice_candies, bob_candies, and carol_candies\n",
    "to_smash = (alice_candies+bob_candies+carol_candies)%3\n",
    "# Check your answer\n",
    "q4.check()"
   ]
  },
  {
   "cell_type": "code",
   "execution_count": 17,
   "id": "9a71818f",
   "metadata": {
    "execution": {
     "iopub.execute_input": "2023-11-05T14:43:12.791279Z",
     "iopub.status.busy": "2023-11-05T14:43:12.790604Z",
     "iopub.status.idle": "2023-11-05T14:43:12.797571Z",
     "shell.execute_reply": "2023-11-05T14:43:12.796850Z"
    },
    "papermill": {
     "duration": 0.017684,
     "end_time": "2023-11-05T14:43:12.799279",
     "exception": false,
     "start_time": "2023-11-05T14:43:12.781595",
     "status": "completed"
    },
    "tags": []
   },
   "outputs": [
    {
     "data": {
      "application/javascript": [
       "parent.postMessage({\"jupyterEvent\": \"custom.exercise_interaction\", \"data\": {\"interactionType\": 2, \"questionType\": 1, \"questionId\": \"4_CandySplitting\", \"learnToolsVersion\": \"0.3.4\", \"valueTowardsCompletion\": 0.0, \"failureMessage\": \"\", \"exceptionClass\": \"\", \"trace\": \"\", \"outcomeType\": 4}}, \"*\")"
      ],
      "text/plain": [
       "<IPython.core.display.Javascript object>"
      ]
     },
     "metadata": {},
     "output_type": "display_data"
    },
    {
     "data": {
      "text/markdown": [
       "<span style=\"color:#3366cc\">Hint 1:</span> You'll probably want to use the modulo operator, `%`.\n",
       "(For another hint, call `.hint(2)`)"
      ],
      "text/plain": [
       "Hint 1: You'll probably want to use the modulo operator, `%`.\n",
       "(For another hint, call `.hint(2)`)"
      ]
     },
     "metadata": {},
     "output_type": "display_data"
    }
   ],
   "source": [
    "q4.hint()\n",
    "#q4.solution()"
   ]
  },
  {
   "cell_type": "markdown",
   "id": "826f4018",
   "metadata": {
    "papermill": {
     "duration": 0.007338,
     "end_time": "2023-11-05T14:43:12.814285",
     "exception": false,
     "start_time": "2023-11-05T14:43:12.806947",
     "status": "completed"
    },
    "tags": []
   },
   "source": [
    "# Keep Going\n",
    "\n",
    "Next up, you'll **[learn to write new functions and understand functions others write](https://www.kaggle.com/colinmorris/functions-and-getting-help)**. This will make you at least 10 times more productive as a Python programmer. "
   ]
  },
  {
   "cell_type": "markdown",
   "id": "aaedc90b",
   "metadata": {
    "papermill": {
     "duration": 0.007469,
     "end_time": "2023-11-05T14:43:12.829266",
     "exception": false,
     "start_time": "2023-11-05T14:43:12.821797",
     "status": "completed"
    },
    "tags": []
   },
   "source": [
    "---\n",
    "\n",
    "\n",
    "\n",
    "\n",
    "*Have questions or comments? Visit the [course discussion forum](https://www.kaggle.com/learn/python/discussion) to chat with other learners.*"
   ]
  }
 ],
 "metadata": {
  "kernelspec": {
   "display_name": "Python 3",
   "language": "python",
   "name": "python3"
  },
  "language_info": {
   "codemirror_mode": {
    "name": "ipython",
    "version": 3
   },
   "file_extension": ".py",
   "mimetype": "text/x-python",
   "name": "python",
   "nbconvert_exporter": "python",
   "pygments_lexer": "ipython3",
   "version": "3.10.12"
  },
  "papermill": {
   "default_parameters": {},
   "duration": 4.142408,
   "end_time": "2023-11-05T14:43:13.254989",
   "environment_variables": {},
   "exception": null,
   "input_path": "__notebook__.ipynb",
   "output_path": "__notebook__.ipynb",
   "parameters": {},
   "start_time": "2023-11-05T14:43:09.112581",
   "version": "2.4.0"
  }
 },
 "nbformat": 4,
 "nbformat_minor": 5
}
